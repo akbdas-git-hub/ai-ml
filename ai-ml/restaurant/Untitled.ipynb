{
 "cells": [
  {
   "cell_type": "code",
   "execution_count": 3,
   "id": "34ab462c",
   "metadata": {},
   "outputs": [
    {
     "name": "stdout",
     "output_type": "stream",
     "text": [
      "          Feature1  Feature2  Target\n",
      "Feature1       1.0      -1.0     0.0\n",
      "Feature2      -1.0       1.0     0.0\n",
      "Target         0.0       0.0     1.0\n",
      "Empty DataFrame\n",
      "Columns: []\n",
      "Index: []\n",
      "          Feature1  Feature2  Target\n",
      "Feature1       1.0      -1.0     0.0\n",
      "Feature2      -1.0       1.0     0.0\n",
      "Target         0.0       0.0     1.0\n"
     ]
    }
   ],
   "source": [
    "import pandas as pd\n",
    "\n",
    "# Example DataFrame\n",
    "df = pd.DataFrame({\n",
    "    'Feature1': [1, 2, 3, 4, 5],\n",
    "    'Feature2': [5, 4, 3, 2, 1],\n",
    "    'Target': [1, 0, 1, 0, 1]\n",
    "})\n",
    "\n",
    "# Calculate the correlation matrix\n",
    "corr_matrix = df.corr()\n",
    "print(corr_matrix)\n",
    "\n",
    "# Identify strongly negatively correlated features\n",
    "neg_corr_features = corr_matrix[(corr_matrix < -0.8) & (corr_matrix != -1.0)].dropna(how='all', axis=1).dropna(how='all', axis=0)\n",
    "\n",
    "print(neg_corr_features)\n",
    "print(corr_matrix)\n",
    "\n"
   ]
  },
  {
   "cell_type": "code",
   "execution_count": null,
   "id": "e31137fd",
   "metadata": {},
   "outputs": [],
   "source": []
  }
 ],
 "metadata": {
  "kernelspec": {
   "display_name": "Python 3 (ipykernel)",
   "language": "python",
   "name": "python3"
  },
  "language_info": {
   "codemirror_mode": {
    "name": "ipython",
    "version": 3
   },
   "file_extension": ".py",
   "mimetype": "text/x-python",
   "name": "python",
   "nbconvert_exporter": "python",
   "pygments_lexer": "ipython3",
   "version": "3.11.4"
  }
 },
 "nbformat": 4,
 "nbformat_minor": 5
}
