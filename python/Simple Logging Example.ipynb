{
 "cells": [
  {
   "cell_type": "code",
   "execution_count": 37,
   "id": "1c4fd658",
   "metadata": {},
   "outputs": [],
   "source": [
    "import logging"
   ]
  },
  {
   "cell_type": "code",
   "execution_count": 112,
   "id": "2f5c8ee7",
   "metadata": {},
   "outputs": [],
   "source": [
    "import traceback"
   ]
  },
  {
   "cell_type": "code",
   "execution_count": 65,
   "id": "0b067feb",
   "metadata": {},
   "outputs": [],
   "source": [
    "logger.setLevel(logging.DEBUG)"
   ]
  },
  {
   "cell_type": "code",
   "execution_count": 94,
   "id": "77c15cb1",
   "metadata": {},
   "outputs": [],
   "source": [
    "logger = logging.getLogger('root')"
   ]
  },
  {
   "cell_type": "code",
   "execution_count": 110,
   "id": "b805de37",
   "metadata": {},
   "outputs": [],
   "source": [
    "file_handler = logging.FileHandler('./myapp.log')"
   ]
  },
  {
   "cell_type": "code",
   "execution_count": 96,
   "id": "d2ece9f5",
   "metadata": {},
   "outputs": [],
   "source": [
    "formatter = logging.Formatter('%(asctime)s - %(name)s - %(levelname)s - %(message)s')\n",
    "file_handler.setFormatter(formatter)"
   ]
  },
  {
   "cell_type": "code",
   "execution_count": 97,
   "id": "25f0e7f8",
   "metadata": {},
   "outputs": [],
   "source": [
    "logger.addHandler(file_handler)"
   ]
  },
  {
   "cell_type": "code",
   "execution_count": 408,
   "id": "3d965829",
   "metadata": {},
   "outputs": [],
   "source": [
    "logger.debug('This is a debug message')\n",
    "logger.info('This is an info message')\n",
    "logger.warning('This is a warning message')\n",
    "logger.error('This is an error message')\n",
    "logger.critical('This is a critical message')"
   ]
  },
  {
   "cell_type": "code",
   "execution_count": 108,
   "id": "3ec60c52",
   "metadata": {},
   "outputs": [],
   "source": [
    "def mylogger( msg, *args, **kwargs):\n",
    "    global logger\n",
    "    print (msg)\n",
    "    print(args)\n",
    "    print(kwargs)\n",
    "    #logger.error(msg,exc_info=True,stack_info=True)\n",
    "    logger.log(msg=msg,level=10,exc_info=True)\n",
    "    "
   ]
  },
  {
   "cell_type": "code",
   "execution_count": 116,
   "id": "0df0d257",
   "metadata": {},
   "outputs": [
    {
     "name": "stdout",
     "output_type": "stream",
     "text": [
      "test 22\n",
      "()\n",
      "{}\n"
     ]
    }
   ],
   "source": [
    "# mylogger(\"message\")\n",
    "\n",
    "try:\n",
    "    mylogger(f\"test 22\")\n",
    "    raise TypeError()\n",
    "except Exception as e:\n",
    "    # logger.error(\"Errore {e}\",exc_info=True)\n",
    "    logger.log(msg=f\"error happened {traceback.format_exc()}\",level=30)\n",
    "    \n",
    "    "
   ]
  }
 ],
 "metadata": {
  "kernelspec": {
   "display_name": "Python 3 (ipykernel)",
   "language": "python",
   "name": "python3"
  },
  "language_info": {
   "codemirror_mode": {
    "name": "ipython",
    "version": 3
   },
   "file_extension": ".py",
   "mimetype": "text/x-python",
   "name": "python",
   "nbconvert_exporter": "python",
   "pygments_lexer": "ipython3",
   "version": "3.11.4"
  }
 },
 "nbformat": 4,
 "nbformat_minor": 5
}
